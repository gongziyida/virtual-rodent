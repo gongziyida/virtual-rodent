{
 "cells": [
  {
   "cell_type": "code",
   "execution_count": 67,
   "id": "2ea72f84-12d9-4b34-aea0-4b63cd50e0a2",
   "metadata": {},
   "outputs": [],
   "source": [
    "import functools\n",
    "\n",
    "from dm_control import composer\n",
    "from dm_control.composer.variation import distributions\n",
    "from dm_control.locomotion.arenas import bowl\n",
    "from dm_control.locomotion.arenas import corridors as corr_arenas\n",
    "from dm_control.locomotion.arenas import floors\n",
    "from dm_control.locomotion.arenas import labmaze_textures\n",
    "from dm_control.locomotion.arenas import mazes\n",
    "from dm_control.locomotion.props import target_sphere\n",
    "from dm_control.locomotion.tasks import corridors as corr_tasks\n",
    "from dm_control.locomotion.tasks import escape\n",
    "from dm_control.locomotion.tasks import random_goal_maze\n",
    "from dm_control.locomotion.tasks import reach\n",
    "from dm_control.locomotion.walkers import rodent\n",
    "\n",
    "\"\"\"\n",
    "appendages_pos (15): head and 4 paw positions, projected to egocentric frame, and reshaped to 1D\n",
    "joints_pos/vel (30): angle and angular velocity of the 1D hinge joints\n",
    "tendons_pos/vel (8): extension and extension velocity of the 1D tendons\n",
    "sensors_accelerometer/velocimeter/gyro (3): Acceleration/velocity/angular velocity of the body\n",
    "world_zaxis (3): the world's z-vector (-gravity) in this Walker's torso frame\n",
    "sensors_touch (4): touch sensors (forces) in the 4 paws\n",
    "\"\"\"\n",
    "RODENT_PROPRIOCEPTION_ATTRIBUTES = ('appendages_pos', 'joints_pos', 'joints_vel', 'tendons_pos', \n",
    "                                    'tendons_vel', 'sensors_accelerometer', 'sensors_velocimeter', \n",
    "                                    'sensors_gyro', 'sensors_touch', 'world_zaxis')\n",
    "\n",
    "random_state=None\n",
    "physics_dt=0.002\n",
    "ctrl_dt=0.02"
   ]
  },
  {
   "cell_type": "code",
   "execution_count": 68,
   "id": "49ba7c76-8a34-461e-b4a3-64cfa2c3298d",
   "metadata": {},
   "outputs": [],
   "source": [
    "class RunThroughCorridor2(corr_tasks.RunThroughCorridor):\n",
    "    def get_reward(self, physics):\n",
    "        walker_xvel = physics.bind(self._walker.root_body).subtree_linvel[0]\n",
    "        xvel_term = rewards.tolerance(\n",
    "            walker_xvel, (self._vel, self._vel),\n",
    "            margin=self._vel,\n",
    "            sigmoid='linear',\n",
    "            value_at_margin=0.0)\n",
    "        return xvel_term"
   ]
  },
  {
   "cell_type": "code",
   "execution_count": 99,
   "id": "a37e7bbf-a6a8-482e-9ff5-f1f9ca134c7e",
   "metadata": {},
   "outputs": [
    {
     "data": {
      "text/plain": [
       "array([3.09952605e-02, 2.05852494e-07, 6.50895726e-02])"
      ]
     },
     "execution_count": 99,
     "metadata": {},
     "output_type": "execute_result"
    }
   ],
   "source": [
    "walker.root_body.pos"
   ]
  },
  {
   "cell_type": "code",
   "execution_count": 95,
   "id": "57f67c84-2cce-49dd-b4c1-81cc3d9ff492",
   "metadata": {},
   "outputs": [
    {
     "data": {
      "text/plain": [
       "[<matplotlib.lines.Line2D at 0x747d17fc0460>]"
      ]
     },
     "execution_count": 95,
     "metadata": {},
     "output_type": "execute_result"
    },
    {
     "data": {
      "image/png": "[encoded data removed]",
      "text/plain": [
       "<Figure size 640x480 with 1 Axes>"
      ]
     },
     "metadata": {},
     "output_type": "display_data"
    }
   ],
   "source": [
    "from dm_control.utils import rewards\n",
    "x = np.linspace(-1, 5)\n",
    "y = rewards.tolerance(x, (1, 1.5), margin=0.5, sigmoid='linear', value_at_margin=0)\n",
    "plt.plot(x, y)"
   ]
  },
  {
   "cell_type": "code",
   "execution_count": 69,
   "id": "ebe3165c-b904-4e16-acb5-0bcf4670f9b3",
   "metadata": {},
   "outputs": [],
   "source": [
    "# Build a position-controlled rodent walker.\n",
    "walker = rodent.Rat(\n",
    "  observable_options={'egocentric_camera': dict(enabled=True)})"
   ]
  },
  {
   "cell_type": "code",
   "execution_count": 70,
   "id": "44c61a48-d2a6-4b37-862c-6e318fd35e65",
   "metadata": {},
   "outputs": [],
   "source": [
    "# Build a corridor-shaped arena with gaps, where the sizes of the gaps and\n",
    "# platforms are uniformly randomized.\n",
    "arena = corr_arenas.GapsCorridor(\n",
    "  platform_length=distributions.Uniform(.4, .8),\n",
    "  gap_length=distributions.Uniform(.05, .2),\n",
    "  corridor_width=2,\n",
    "  corridor_length=40,\n",
    "  aesthetic='outdoor_natural')"
   ]
  },
  {
   "cell_type": "code",
   "execution_count": 71,
   "id": "72673389-5bb4-4585-9771-d1eb6e83a547",
   "metadata": {},
   "outputs": [],
   "source": [
    "# Build a task that rewards the agent for running down the corridor at a\n",
    "# specific velocity.\n",
    "# task = corr_tasks.RunThroughCorridor(\n",
    "task = RunThroughCorridor2(\n",
    "  walker=walker,\n",
    "  arena=arena,\n",
    "  walker_spawn_position=(5, 0, 0),\n",
    "  walker_spawn_rotation=0,\n",
    "  target_velocity=1.0,\n",
    "  contact_termination=True,\n",
    "  terminate_at_height=-0.3,\n",
    "  physics_timestep=physics_dt,\n",
    "  control_timestep=ctrl_dt)"
   ]
  },
  {
   "cell_type": "code",
   "execution_count": 72,
   "id": "d051dd73-d3d8-43a6-8417-42b6af87523e",
   "metadata": {},
   "outputs": [],
   "source": [
    "env = composer.Environment(time_limit=30,\n",
    "                          task=task,\n",
    "                          random_state=random_state,\n",
    "                          strip_singleton_obs_buffer_dim=True)\n",
    "propri_attr = RODENT_PROPRIOCEPTION_ATTRIBUTES"
   ]
  },
  {
   "cell_type": "code",
   "execution_count": 73,
   "id": "416fae87-d2cf-42ed-ab6f-e4e8e4607f40",
   "metadata": {},
   "outputs": [],
   "source": [
    "import os\n",
    "import torch\n",
    "import numpy as np\n",
    "import matplotlib.pyplot as plt"
   ]
  },
  {
   "cell_type": "code",
   "execution_count": 74,
   "id": "672b88ec-8abc-44a1-9825-aaf963355ddf",
   "metadata": {},
   "outputs": [],
   "source": [
    "from virtual_rodent.environment import MAPPER\n",
    "from virtual_rodent import VISION_DIM, PROPRI_DIM, ACTION_DIM\n",
    "from virtual_rodent.network.vision_enc import ResNet18Enc\n",
    "from virtual_rodent.network.propri_enc import MLPEnc\n",
    "import virtual_rodent.network.Merel2019 as Merel2019\n",
    "from virtual_rodent.utils import load_checkpoint"
   ]
  },
  {
   "cell_type": "code",
   "execution_count": 75,
   "id": "d564d80b-d885-4717-a56b-22689fd2b819",
   "metadata": {},
   "outputs": [],
   "source": [
    "vision_enc = ResNet18Enc()\n",
    "vision_emb_dim = vision_enc.get_emb_dim(VISION_DIM)\n",
    "\n",
    "propri_emb_dim = 20 # propri_dim\n",
    "propri_enc = MLPEnc(PROPRI_DIM[0], propri_emb_dim, hidden_dims=(50,))\n",
    "\n",
    "critic_in_dim = vision_emb_dim + propri_emb_dim\n",
    "critic = Merel2019.Critic(critic_in_dim)\n",
    "\n",
    "actor_in_dim = critic_in_dim + PROPRI_DIM[0] + critic.hidden_dim\n",
    "actor = Merel2019.Actor(actor_in_dim, ACTION_DIM, logit_scale=1)\n",
    "\n",
    "model = Merel2019.MerelModel(vision_enc, propri_enc, VISION_DIM, PROPRI_DIM, \n",
    "                             actor, critic, ACTION_DIM) "
   ]
  },
  {
   "cell_type": "code",
   "execution_count": 76,
   "id": "c4953938-8b56-4a6b-a440-35ac0ce79e68",
   "metadata": {},
   "outputs": [],
   "source": [
    "# env_name = 'gaps'\n",
    "# env, propri_attr = MAPPER[env_name](physics_dt=0.001, ctrl_dt=0.02)"
   ]
  },
  {
   "cell_type": "code",
   "execution_count": 77,
   "id": "3243bb2c-6fc0-49c6-9e14-14adacaf9440",
   "metadata": {},
   "outputs": [
    {
     "name": "stdout",
     "output_type": "stream",
     "text": [
      "[-0.15027781  0.01974944  0.02018559]\n"
     ]
    },
    {
     "ename": "AssertionError",
     "evalue": "",
     "output_type": "error",
     "traceback": [
      "\u001b[0;31m---------------------------------------------------------------------------\u001b[0m",
      "\u001b[0;31mAssertionError\u001b[0m                            Traceback (most recent call last)",
      "Cell \u001b[0;32mIn[77], line 7\u001b[0m\n\u001b[1;32m      5\u001b[0m ext_cam_size \u001b[38;5;241m=\u001b[39m (\u001b[38;5;241m200\u001b[39m, \u001b[38;5;241m200\u001b[39m)\n\u001b[1;32m      6\u001b[0m \u001b[38;5;28;01mwith\u001b[39;00m torch\u001b[38;5;241m.\u001b[39mno_grad():\n\u001b[0;32m----> 7\u001b[0m     ret \u001b[38;5;241m=\u001b[39m \u001b[43msimulate\u001b[49m\u001b[43m(\u001b[49m\u001b[43menv\u001b[49m\u001b[43m,\u001b[49m\u001b[43m \u001b[49m\u001b[43mmodel\u001b[49m\u001b[43m,\u001b[49m\u001b[43m \u001b[49m\u001b[43mpropri_attr\u001b[49m\u001b[43m,\u001b[49m\u001b[43m \u001b[49m\u001b[43mmax_step\u001b[49m\u001b[38;5;241;43m=\u001b[39;49m\u001b[38;5;241;43m100\u001b[39;49m\u001b[43m,\u001b[49m\u001b[43m \u001b[49m\u001b[43mdevice\u001b[49m\u001b[38;5;241;43m=\u001b[39;49m\u001b[43mtorch\u001b[49m\u001b[38;5;241;43m.\u001b[39;49m\u001b[43mdevice\u001b[49m\u001b[43m(\u001b[49m\u001b[38;5;124;43m'\u001b[39;49m\u001b[38;5;124;43mcpu\u001b[39;49m\u001b[38;5;124;43m'\u001b[39;49m\u001b[43m)\u001b[49m\u001b[43m,\u001b[49m\u001b[43m \u001b[49m\u001b[43mext_cam\u001b[49m\u001b[38;5;241;43m=\u001b[39;49m\u001b[43mext_cam\u001b[49m\u001b[43m)\u001b[49m\n\u001b[1;32m      8\u001b[0m \u001b[38;5;28;01mfor\u001b[39;00m i \u001b[38;5;129;01min\u001b[39;00m ext_cam:\n\u001b[1;32m      9\u001b[0m     anim \u001b[38;5;241m=\u001b[39m video(ret[\u001b[38;5;124m'\u001b[39m\u001b[38;5;124mcam\u001b[39m\u001b[38;5;132;01m%d\u001b[39;00m\u001b[38;5;124m'\u001b[39m\u001b[38;5;241m%\u001b[39mi])\n",
      "File \u001b[0;32m~/Projects/virtual-rodent/virtual_rodent/simulation.py:54\u001b[0m, in \u001b[0;36msimulate\u001b[0;34m(env, model, propri_attr, max_step, device, reset, time_step, ext_cam, ext_cam_size)\u001b[0m\n\u001b[1;32m     50\u001b[0m propri \u001b[38;5;241m=\u001b[39m torch\u001b[38;5;241m.\u001b[39mfrom_numpy(get_propri(time_step, propri_attr))\u001b[38;5;241m.\u001b[39mto(device)\n\u001b[1;32m     52\u001b[0m _, (action, log_prob, _) \u001b[38;5;241m=\u001b[39m model(vision\u001b[38;5;241m=\u001b[39mvision, propri\u001b[38;5;241m=\u001b[39mpropri)\n\u001b[0;32m---> 54\u001b[0m time_step \u001b[38;5;241m=\u001b[39m env\u001b[38;5;241m.\u001b[39mstep(np\u001b[38;5;241m.\u001b[39mclip(action\u001b[38;5;241m.\u001b[39mdetach()\u001b[38;5;241m.\u001b[39mcpu()\u001b[38;5;241m.\u001b[39msqueeze()\u001b[38;5;241m.\u001b[39mnumpy(), \n\u001b[1;32m     55\u001b[0m                              action_spec\u001b[38;5;241m.\u001b[39mminimum, action_spec\u001b[38;5;241m.\u001b[39mmaximum))\n\u001b[1;32m     57\u001b[0m \u001b[38;5;66;03m# Record state t, action t, reward t and done t+1; reward at start is 0\u001b[39;00m\n\u001b[1;32m     58\u001b[0m returns[\u001b[38;5;124m'\u001b[39m\u001b[38;5;124mvision\u001b[39m\u001b[38;5;124m'\u001b[39m]\u001b[38;5;241m.\u001b[39mappend(vision)\n",
      "File \u001b[0;32m~/.local/lib/python3.10/site-packages/dm_control/composer/environment.py:440\u001b[0m, in \u001b[0;36mEnvironment.step\u001b[0;34m(self, action)\u001b[0m\n\u001b[1;32m    437\u001b[0m \u001b[38;5;28mself\u001b[39m\u001b[38;5;241m.\u001b[39m_observation_updater\u001b[38;5;241m.\u001b[39mupdate()\n\u001b[1;32m    439\u001b[0m \u001b[38;5;28;01mif\u001b[39;00m \u001b[38;5;129;01mnot\u001b[39;00m physics_is_divergent:\n\u001b[0;32m--> 440\u001b[0m   reward \u001b[38;5;241m=\u001b[39m \u001b[38;5;28;43mself\u001b[39;49m\u001b[38;5;241;43m.\u001b[39;49m\u001b[43m_task\u001b[49m\u001b[38;5;241;43m.\u001b[39;49m\u001b[43mget_reward\u001b[49m\u001b[43m(\u001b[49m\u001b[38;5;28;43mself\u001b[39;49m\u001b[38;5;241;43m.\u001b[39;49m\u001b[43m_physics_proxy\u001b[49m\u001b[43m)\u001b[49m\n\u001b[1;32m    441\u001b[0m   discount \u001b[38;5;241m=\u001b[39m \u001b[38;5;28mself\u001b[39m\u001b[38;5;241m.\u001b[39m_task\u001b[38;5;241m.\u001b[39mget_discount(\u001b[38;5;28mself\u001b[39m\u001b[38;5;241m.\u001b[39m_physics_proxy)\n\u001b[1;32m    442\u001b[0m   terminating \u001b[38;5;241m=\u001b[39m (\n\u001b[1;32m    443\u001b[0m       \u001b[38;5;28mself\u001b[39m\u001b[38;5;241m.\u001b[39m_task\u001b[38;5;241m.\u001b[39mshould_terminate_episode(\u001b[38;5;28mself\u001b[39m\u001b[38;5;241m.\u001b[39m_physics_proxy)\n\u001b[1;32m    444\u001b[0m       \u001b[38;5;129;01mor\u001b[39;00m \u001b[38;5;28mself\u001b[39m\u001b[38;5;241m.\u001b[39m_physics\u001b[38;5;241m.\u001b[39mtime() \u001b[38;5;241m>\u001b[39m\u001b[38;5;241m=\u001b[39m \u001b[38;5;28mself\u001b[39m\u001b[38;5;241m.\u001b[39m_time_limit\n\u001b[1;32m    445\u001b[0m   )\n",
      "Cell \u001b[0;32mIn[68], line 5\u001b[0m, in \u001b[0;36mRunThroughCorridor2.get_reward\u001b[0;34m(self, physics)\u001b[0m\n\u001b[1;32m      3\u001b[0m walker_vel \u001b[38;5;241m=\u001b[39m physics\u001b[38;5;241m.\u001b[39mbind(\u001b[38;5;28mself\u001b[39m\u001b[38;5;241m.\u001b[39m_walker\u001b[38;5;241m.\u001b[39mroot_body)\u001b[38;5;241m.\u001b[39msubtree_linvel\n\u001b[1;32m      4\u001b[0m \u001b[38;5;28mprint\u001b[39m(walker_vel)\n\u001b[0;32m----> 5\u001b[0m \u001b[38;5;28;01massert\u001b[39;00m \u001b[38;5;28;01mFalse\u001b[39;00m\n\u001b[1;32m      6\u001b[0m vel_term \u001b[38;5;241m=\u001b[39m rewards\u001b[38;5;241m.\u001b[39mtolerance(\n\u001b[1;32m      7\u001b[0m     walker_vel, (\u001b[38;5;28mself\u001b[39m\u001b[38;5;241m.\u001b[39m_vel, \u001b[38;5;28mself\u001b[39m\u001b[38;5;241m.\u001b[39m_vel),\n\u001b[1;32m      8\u001b[0m     margin\u001b[38;5;241m=\u001b[39m\u001b[38;5;28mself\u001b[39m\u001b[38;5;241m.\u001b[39m_vel,\n\u001b[1;32m      9\u001b[0m     sigmoid\u001b[38;5;241m=\u001b[39m\u001b[38;5;124m'\u001b[39m\u001b[38;5;124mlinear\u001b[39m\u001b[38;5;124m'\u001b[39m,\n\u001b[1;32m     10\u001b[0m     value_at_margin\u001b[38;5;241m=\u001b[39m\u001b[38;5;241m0.0\u001b[39m)\n\u001b[1;32m     11\u001b[0m \u001b[38;5;28;01mreturn\u001b[39;00m xvel_term\n",
      "\u001b[0;31mAssertionError\u001b[0m: "
     ]
    }
   ],
   "source": [
    "from virtual_rodent.visualization import video\n",
    "from virtual_rodent.simulation import simulate\n",
    "ext_cam = (0,)\n",
    "save_dir = './'\n",
    "ext_cam_size = (200, 200)\n",
    "with torch.no_grad():\n",
    "    ret = simulate(env, model, propri_attr, max_step=100, device=torch.device('cpu'), ext_cam=ext_cam)\n",
    "for i in ext_cam:\n",
    "    anim = video(ret['cam%d'%i])\n",
    "    fname = 'demo_%s_cam%d.gif' % ('gaps', i)\n",
    "    anim.save(os.path.join(save_dir, fname), writer='pillow')"
   ]
  },
  {
   "cell_type": "code",
   "execution_count": null,
   "id": "5ea25b3b-c694-442f-b7ca-fcc4f4d67515",
   "metadata": {},
   "outputs": [],
   "source": []
  }
 ],
 "metadata": {
  "kernelspec": {
   "display_name": "Python 3 (ipykernel)",
   "language": "python",
   "name": "python3"
  },
  "language_info": {
   "codemirror_mode": {
    "name": "ipython",
    "version": 3
   },
   "file_extension": ".py",
   "mimetype": "text/x-python",
   "name": "python",
   "nbconvert_exporter": "python",
   "pygments_lexer": "ipython3",
   "version": "3.10.12"
  }
 },
 "nbformat": 4,
 "nbformat_minor": 5
}
